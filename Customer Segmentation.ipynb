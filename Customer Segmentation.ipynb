{
 "cells": [
  {
   "cell_type": "markdown",
   "id": "6731d4c2",
   "metadata": {},
   "source": [
    "# Customer Segmentation - Toy Company\n",
    "Elizabeth Dombowsky"
   ]
  },
  {
   "cell_type": "markdown",
   "id": "7336a81e",
   "metadata": {},
   "source": [
    "Notes:\n",
    "    - python package for sample size (determine population size)\n",
    "    - learn more about the science of survey writing\n",
    "        - survey writing: segmentation "
   ]
  },
  {
   "cell_type": "markdown",
   "id": "15c969bc",
   "metadata": {},
   "source": [
    "#### Storyline:\n",
    "A toy company is interested in understanding what types of people are shopping for toys for their children. Using Customer segmentation based upon survey data will allow us to cluster on attitudes arround toys to understand what attitudes the population has around toy purchases and ownership"
   ]
  },
  {
   "cell_type": "markdown",
   "id": "4c312a07",
   "metadata": {},
   "source": [
    "#### Methodology: \n",
    "- Generate Fake Survey Questions\n",
    "- Generate Fake Data set\n",
    "- Use Hierarchical Clustering to cluster on attitude questions\n",
    "- Optimize Clusters\n",
    "- Pull demographic info from clusters to understand the groups\n",
    "- Visualize Clusters in Powerpoint "
   ]
  },
  {
   "cell_type": "markdown",
   "id": "1df45d79",
   "metadata": {},
   "source": [
    "# Generate Fake Dataset according to questions on fake survey"
   ]
  },
  {
   "cell_type": "code",
   "execution_count": 85,
   "id": "96c6470f",
   "metadata": {},
   "outputs": [],
   "source": [
    "# Use faker package to create dataset\n",
    "from faker import Faker\n",
    "\n",
    "fake = Faker()"
   ]
  },
  {
   "cell_type": "code",
   "execution_count": 86,
   "id": "c6a54288",
   "metadata": {},
   "outputs": [
    {
     "name": "stdout",
     "output_type": "stream",
     "text": [
      "[1, 1, 3, 2, 2, 2, 1, 5, 1, 5, 4, 1, 1, 1, 2, 2, 5, 5, 1, 5, 2, 5, 4, 2, 4, 5, 3, 1, 2, 4, 3, 3, 2, 2, 3, 1, 1, 4, 1, 3, 3, 5, 3, 1, 4, 5, 1, 4, 1, 5, 3, 5, 3, 5, 2, 1, 1, 2, 3, 1, 2, 1, 4, 3, 4, 3, 2, 3, 3, 2, 3, 1, 5, 2, 5, 2, 2, 4, 4, 3, 5, 2, 3, 1, 2, 1, 3, 4, 3, 1, 2, 5, 3, 2, 4, 4, 4, 2, 3, 2, 2, 5, 5, 3, 5, 4, 5, 4, 3, 2, 2, 5, 4, 1, 1, 1, 2, 2, 4, 5, 1, 4, 4, 5, 4, 5, 3, 5, 1, 1, 5, 3, 3, 1, 3, 4, 2, 4, 1, 3, 5, 2, 5, 1, 3, 5, 5, 2, 2, 3, 2, 5, 5, 1, 5, 3, 4, 1, 1, 3, 3, 2, 1, 2, 5, 1, 1, 4, 1, 5, 2, 2, 4, 5, 2, 3, 5, 5, 4, 2, 5, 2, 3, 4, 3, 4, 5, 4, 1, 2, 2, 1, 3, 1, 5, 5, 2, 5, 2, 1, 1, 1, 2, 1, 1, 3, 1, 5, 2, 3, 4, 2, 5, 2, 5, 5, 4, 2, 4, 4, 2, 1, 1, 4, 3, 4, 4, 4, 1, 1, 1, 4, 3, 1, 2, 2, 2, 5, 4, 2, 4, 2, 3, 4, 2, 1, 4, 5, 1, 1, 5, 1, 1, 2, 2, 4, 4, 4, 2, 4, 1, 2, 4, 1, 4, 3, 4, 3, 4, 5, 4, 2, 2, 3, 2, 1, 5, 5, 1, 3, 1, 1, 5, 4, 5, 5, 2, 1, 5, 1, 2, 1, 5, 1, 2, 4, 1, 5, 2, 5, 5, 1, 5, 1, 4, 5, 5, 5, 3, 3, 2, 3, 2, 3, 4, 2, 3, 4, 3, 1, 1, 4, 5, 5, 1, 1, 5, 2, 5, 3, 2, 3, 1, 2, 3, 3, 2, 4, 5, 3, 5, 5, 1, 5, 3, 1, 2, 3, 1, 1]\n",
      "     Column_Name\n",
      "0              1\n",
      "1              1\n",
      "2              3\n",
      "3              2\n",
      "4              2\n",
      "..           ...\n",
      "345            1\n",
      "346            2\n",
      "347            3\n",
      "348            1\n",
      "349            1\n",
      "\n",
      "[350 rows x 1 columns]\n"
     ]
    }
   ],
   "source": [
    "# Start by creating data set using random and putting into a DataFrame\n",
    "import random\n",
    "import pandas as pd\n",
    "\n",
    "# Set a seed value for reproducibility\n",
    "seed_value = 42\n",
    "random.seed(seed_value)\n",
    "\n",
    "# Generate numbers based on specified ranges\n",
    "def generate_random_numbers(length, range_start, range_end):\n",
    "    random_numbers = [random.randint(range_start, range_end) for _ in range(length)]\n",
    "    return random_numbers\n",
    "\n",
    "# Specify range and length\n",
    "length_of_numbers = 350\n",
    "start_range = 1\n",
    "end_range = 5\n",
    "\n",
    "# Generate random numbers\n",
    "random_numbers = generate_random_numbers(length_of_numbers, start_range, end_range)\n",
    "print(random_numbers)\n",
    "\n",
    "# Convert list to DataFrame\n",
    "fake_data = pd.DataFrame({'Column_Name': random_numbers})\n",
    "\n",
    "# Display the DataFrame\n",
    "print(fake_data)"
   ]
  },
  {
   "cell_type": "code",
   "execution_count": 87,
   "id": "fba3a3f9",
   "metadata": {},
   "outputs": [
    {
     "name": "stdout",
     "output_type": "stream",
     "text": [
      "     Column_Name  age  income  country  rent_own\n",
      "0              1    1       1        1         1\n",
      "1              1    1       1        1         1\n",
      "2              3    3       3        3         3\n",
      "3              2    2       2        2         2\n",
      "4              2    2       2        2         2\n",
      "..           ...  ...     ...      ...       ...\n",
      "345            1    1       1        1         1\n",
      "346            2    2       2        2         2\n",
      "347            3    3       3        3         3\n",
      "348            1    1       1        1         1\n",
      "349            1    1       1        1         1\n",
      "\n",
      "[350 rows x 5 columns]\n"
     ]
    }
   ],
   "source": [
    "# create columns age, income, country, and rent or own\n",
    "columns = [\"age\", \"income\", \"country\", \"rent_own\"]\n",
    "for column in columns:\n",
    "    random.seed(seed_value)  # Set the seed before generating each column\n",
    "    fake_data[column] = generate_random_numbers(length_of_numbers, start_range, end_range)\n",
    "\n",
    "# Display the DataFrame\n",
    "print(fake_data)"
   ]
  },
  {
   "cell_type": "code",
   "execution_count": 88,
   "id": "037a6244",
   "metadata": {},
   "outputs": [],
   "source": [
    "# rename column to family_sizes\n",
    "fake_data.rename(columns={0:\"family_sizes\"}, inplace = True)"
   ]
  },
  {
   "cell_type": "code",
   "execution_count": 90,
   "id": "e03f0810",
   "metadata": {},
   "outputs": [],
   "source": [
    "# Create column income between 25k and 250k\n",
    "np.random.seed(seed_value)\n",
    "fake_data['income'] = np.random.randint(25000, 250000, size=len(fake_data))"
   ]
  },
  {
   "cell_type": "code",
   "execution_count": 91,
   "id": "1440bf88",
   "metadata": {},
   "outputs": [],
   "source": [
    "# Create column ag, values between 21 and 100\n",
    "np.random.seed(seed_value)\n",
    "fake_data['age'] = np.random.randint(21, 70, size=len(fake_data))"
   ]
  },
  {
   "cell_type": "code",
   "execution_count": 92,
   "id": "49baa352",
   "metadata": {},
   "outputs": [],
   "source": [
    "# Create column Country\n",
    "from faker import Faker\n",
    "np.random.seed(seed_value)\n",
    "fake_data['country'] = [fake.country_code() for _ in range(len(fake_data))]"
   ]
  },
  {
   "cell_type": "code",
   "execution_count": 158,
   "id": "1960e2e4",
   "metadata": {},
   "outputs": [],
   "source": [
    "# Create column number of Children in the Home under 18\n",
    "np.random.seed(seed_value)\n",
    "fake_data['Children'] = np.random.randint(1, 7, size=len(fake_data))"
   ]
  },
  {
   "cell_type": "code",
   "execution_count": 159,
   "id": "60cc69fa",
   "metadata": {},
   "outputs": [],
   "source": [
    "#Rent/own\n",
    "# List of possible words\n",
    "word_choices = ['rent','own']\n",
    "np.random.seed(seed_value)\n",
    "# Add a new column 'RandomChosenWord' with randomly chosen words\n",
    "fake_data['rent_own'] = [random.choice(word_choices) for _ in range(len(fake_data))]"
   ]
  },
  {
   "cell_type": "markdown",
   "id": "447aa133",
   "metadata": {},
   "source": [
    "# Attitude Questions\n",
    "\n",
    "All questions ordinal (\"Strong agree\", \"Agree\", \"netural\", \"Disagree\", \"Strongly Disagree\" (1-4\n",
    "\n",
    "1. I feel that lots of toys are good for children\n",
    "2. I feel that Allowing my child to have screen time when i am overwhelmed is okay\n",
    "3. I feel stressed when there are lots of toys in my house\n",
    "4. I feel that toys are a big part of childhood\n",
    "5. I feel that Toys need be easy to clean\n",
    "6. I feel that televison and screen time is bad for my child\n",
    "7. I feel that my house has too many toys\n",
    "8. Toys should have parents feelings in mind\n",
    "9. I perfer my house to all match my personal aesthetic\n",
    "10. Toys can be too colorful\n",
    "11. Toys should be easily stored"
   ]
  },
  {
   "cell_type": "code",
   "execution_count": 161,
   "id": "a4e9e2be",
   "metadata": {},
   "outputs": [],
   "source": [
    "# add attitude questions to columns and add to dataframe\n",
    "columns = [[\"lots_of_toys_good\", \" Screen_time_is_good\",\"Stressed_lots_of_toys\",\"Toys_impt_childhood\",\"toys_clean\",\n",
    "           \"screen_time_bad\",\"house_man_toys\",\"parents_feelings_important\",\"decor_match\",\"Too_colorful\",\n",
    "           \"easy_storage\"]]\n",
    "for column in columns:\n",
    "    np.random.seed(seed_value)\n",
    "    fake_data[column] = None"
   ]
  },
  {
   "cell_type": "code",
   "execution_count": 163,
   "id": "7b793274",
   "metadata": {},
   "outputs": [],
   "source": [
    "# add random numbers between 1-4 to attitude columns\n",
    "np.random.seed(seed_value)\n",
    "fake_data['lots_of_toys_good'] = np.random.randint(1,4, size=len(fake_data))\n",
    "fake_data[' Screen_time_is_good'] = np.random.randint(1,4, size=len(fake_data))\n",
    "fake_data['Stressed_lots_of_toys'] = np.random.randint(1,4, size=len(fake_data))\n",
    "fake_data['Toys_impt_childhood'] = np.random.randint(1,4, size=len(fake_data))\n",
    "fake_data['toys_clean'] = np.random.randint(1,4, size=len(fake_data))\n",
    "fake_data['screen_time_bad'] = np.random.randint(1,4, size=len(fake_data))\n",
    "fake_data['house_man_toys'] = np.random.randint(1,4, size=len(fake_data))\n",
    "fake_data['parents_feelings_important'] = np.random.randint(1,4, size=len(fake_data))\n",
    "fake_data['decor_match'] = np.random.randint(1,4, size=len(fake_data))\n",
    "fake_data['Too_colorful'] = np.random.randint(1,4, size=len(fake_data))\n",
    "fake_data['easy_storage'] = np.random.randint(1,4, size=len(fake_data))"
   ]
  },
  {
   "cell_type": "markdown",
   "id": "c11619f6",
   "metadata": {},
   "source": [
    "# Subscription Data"
   ]
  },
  {
   "cell_type": "markdown",
   "id": "e515014e",
   "metadata": {},
   "source": [
    "#1. Which movie/Tv service do you subscribe to?\n",
    "\n",
    "    1 = Apple Tv\n",
    "    2 = Disney +\n",
    "    3 = Amazon Prime\n",
    "    4 = Hulu\n",
    "#2. Which music service do you subscribe to?\n",
    "\n",
    "    1 = Apple Music\n",
    "    2 = Youtube Music\n",
    "    3 = Spotify\n",
    "    4 = iHeart Radio\n",
    "    5 = Pandora\n",
    "#3.Which Food service do you subscribe to?\n",
    "\n",
    "    1 = GrubHub\n",
    "    2 = Doordash\n",
    "    3 = Instacart\n",
    "    4 = Ubereats\n",
    "    \n",
    "#4.Which beauty service do you subscribe to?\n",
    "\n",
    "    1 = Sephora\n",
    "    2 = Ulta\n",
    "    3 = Ipsy\n",
    "    4 = BoxyCharm\n",
    "#5.Which pet service do you subscribe to?\n",
    "\n",
    "    1 = Amazon Prime\n",
    "    2 = Chewy\n",
    "    3 = BarkBox\n",
    "    4 = Petsgameday"
   ]
  },
  {
   "cell_type": "code",
   "execution_count": 219,
   "id": "31e74efc",
   "metadata": {},
   "outputs": [],
   "source": [
    "#add columns movie/tv, music, food, beauty, and pet\n",
    "columns = [[\"movie/tv\",\"music\",\"food\",\"beauty\",\"pet\"]]\n",
    "for column in columns:\n",
    "    np.random.seed(seed_value)\n",
    "    fake_data[column] = None"
   ]
  },
  {
   "cell_type": "code",
   "execution_count": 167,
   "id": "8ee9292f",
   "metadata": {},
   "outputs": [],
   "source": [
    "# add random numbers between 1-4 or 1-5 to subscription columns\n",
    "fake_data['movie/tv'] = np.random.randint(1,4, size=len(fake_data))\n",
    "fake_data['music'] = np.random.randint(1,5, size=len(fake_data))\n",
    "fake_data['food'] = np.random.randint(1,4, size=len(fake_data))\n",
    "fake_data['beauty'] = np.random.randint(1,4, size=len(fake_data))\n",
    "fake_data['pet'] = np.random.randint(1,4, size=len(fake_data))"
   ]
  },
  {
   "cell_type": "markdown",
   "id": "954f9208",
   "metadata": {},
   "source": [
    "# Hierarchical Clustering"
   ]
  },
  {
   "cell_type": "markdown",
   "id": "600c9f47",
   "metadata": {},
   "source": [
    "Notes:\n",
    "- choose a distance metric fit for ordinal data:\n",
    "     - Found: Spearman Rank Correlation Distance or Kendall's Tau Distance:\n"
   ]
  },
  {
   "cell_type": "code",
   "execution_count": 220,
   "id": "ccc9de6f",
   "metadata": {},
   "outputs": [],
   "source": [
    "#Label Encode columns\n",
    "import pandas as pd\n",
    "from sklearn.preprocessing import LabelEncoder\n",
    "label_encoder = LabelEncoder()\n",
    "\n",
    "# Encode the specified column\n",
    "fake_data[\"rent_own\"] = label_encoder.fit_transform(fake_data[\"rent_own\"])\n",
    "fake_data[\"country\"] = label_encoder.fit_transform(fake_data[\"country\"])"
   ]
  },
  {
   "cell_type": "code",
   "execution_count": 171,
   "id": "a117b844",
   "metadata": {},
   "outputs": [
    {
     "data": {
      "text/plain": [
       "AgglomerativeClustering(n_clusters=3)"
      ]
     },
     "execution_count": 171,
     "metadata": {},
     "output_type": "execute_result"
    }
   ],
   "source": [
    "#agglomerative clustering\n",
    "## Optimized clusters by changing the n of clusters and viewing output\n",
    "from sklearn.cluster import AgglomerativeClustering\n",
    "\n",
    "agg_clustering = AgglomerativeClustering(n_clusters=3)\n",
    "agg_clustering.fit(fake_data)"
   ]
  },
  {
   "cell_type": "code",
   "execution_count": 173,
   "id": "ec4520b5",
   "metadata": {},
   "outputs": [
    {
     "data": {
      "text/html": [
       "<div>\n",
       "<style scoped>\n",
       "    .dataframe tbody tr th:only-of-type {\n",
       "        vertical-align: middle;\n",
       "    }\n",
       "\n",
       "    .dataframe tbody tr th {\n",
       "        vertical-align: top;\n",
       "    }\n",
       "\n",
       "    .dataframe thead th {\n",
       "        text-align: right;\n",
       "    }\n",
       "</style>\n",
       "<table border=\"1\" class=\"dataframe\">\n",
       "  <thead>\n",
       "    <tr style=\"text-align: right;\">\n",
       "      <th></th>\n",
       "      <th>Column_Name</th>\n",
       "      <th>age</th>\n",
       "      <th>income</th>\n",
       "      <th>country</th>\n",
       "      <th>rent_own</th>\n",
       "      <th>lots_of_toys_good</th>\n",
       "      <th>Screen_time_is_good</th>\n",
       "      <th>Stressed_lots_of_toys</th>\n",
       "      <th>Toys_impt_childhood</th>\n",
       "      <th>toys_clean</th>\n",
       "      <th>...</th>\n",
       "      <th>decor_match</th>\n",
       "      <th>Too_colorful</th>\n",
       "      <th>easy_storage</th>\n",
       "      <th>movie/tv</th>\n",
       "      <th>music</th>\n",
       "      <th>food</th>\n",
       "      <th>beauty</th>\n",
       "      <th>pet</th>\n",
       "      <th>label</th>\n",
       "      <th>Children</th>\n",
       "    </tr>\n",
       "  </thead>\n",
       "  <tbody>\n",
       "    <tr>\n",
       "      <th>0</th>\n",
       "      <td>1</td>\n",
       "      <td>59</td>\n",
       "      <td>146958</td>\n",
       "      <td>118</td>\n",
       "      <td>1</td>\n",
       "      <td>3</td>\n",
       "      <td>3</td>\n",
       "      <td>3</td>\n",
       "      <td>2</td>\n",
       "      <td>1</td>\n",
       "      <td>...</td>\n",
       "      <td>3</td>\n",
       "      <td>2</td>\n",
       "      <td>2</td>\n",
       "      <td>3</td>\n",
       "      <td>3</td>\n",
       "      <td>2</td>\n",
       "      <td>2</td>\n",
       "      <td>2</td>\n",
       "      <td>0</td>\n",
       "      <td>4</td>\n",
       "    </tr>\n",
       "    <tr>\n",
       "      <th>1</th>\n",
       "      <td>1</td>\n",
       "      <td>49</td>\n",
       "      <td>171867</td>\n",
       "      <td>38</td>\n",
       "      <td>1</td>\n",
       "      <td>1</td>\n",
       "      <td>1</td>\n",
       "      <td>3</td>\n",
       "      <td>1</td>\n",
       "      <td>1</td>\n",
       "      <td>...</td>\n",
       "      <td>1</td>\n",
       "      <td>3</td>\n",
       "      <td>3</td>\n",
       "      <td>1</td>\n",
       "      <td>4</td>\n",
       "      <td>2</td>\n",
       "      <td>1</td>\n",
       "      <td>2</td>\n",
       "      <td>0</td>\n",
       "      <td>5</td>\n",
       "    </tr>\n",
       "    <tr>\n",
       "      <th>2</th>\n",
       "      <td>3</td>\n",
       "      <td>35</td>\n",
       "      <td>156932</td>\n",
       "      <td>36</td>\n",
       "      <td>0</td>\n",
       "      <td>3</td>\n",
       "      <td>3</td>\n",
       "      <td>1</td>\n",
       "      <td>2</td>\n",
       "      <td>2</td>\n",
       "      <td>...</td>\n",
       "      <td>2</td>\n",
       "      <td>3</td>\n",
       "      <td>3</td>\n",
       "      <td>3</td>\n",
       "      <td>1</td>\n",
       "      <td>3</td>\n",
       "      <td>1</td>\n",
       "      <td>3</td>\n",
       "      <td>0</td>\n",
       "      <td>3</td>\n",
       "    </tr>\n",
       "    <tr>\n",
       "      <th>3</th>\n",
       "      <td>2</td>\n",
       "      <td>63</td>\n",
       "      <td>128694</td>\n",
       "      <td>12</td>\n",
       "      <td>1</td>\n",
       "      <td>3</td>\n",
       "      <td>1</td>\n",
       "      <td>1</td>\n",
       "      <td>1</td>\n",
       "      <td>3</td>\n",
       "      <td>...</td>\n",
       "      <td>1</td>\n",
       "      <td>1</td>\n",
       "      <td>1</td>\n",
       "      <td>3</td>\n",
       "      <td>4</td>\n",
       "      <td>2</td>\n",
       "      <td>1</td>\n",
       "      <td>2</td>\n",
       "      <td>0</td>\n",
       "      <td>5</td>\n",
       "    </tr>\n",
       "    <tr>\n",
       "      <th>4</th>\n",
       "      <td>2</td>\n",
       "      <td>28</td>\n",
       "      <td>144879</td>\n",
       "      <td>27</td>\n",
       "      <td>0</td>\n",
       "      <td>1</td>\n",
       "      <td>1</td>\n",
       "      <td>2</td>\n",
       "      <td>3</td>\n",
       "      <td>1</td>\n",
       "      <td>...</td>\n",
       "      <td>1</td>\n",
       "      <td>3</td>\n",
       "      <td>3</td>\n",
       "      <td>1</td>\n",
       "      <td>3</td>\n",
       "      <td>3</td>\n",
       "      <td>1</td>\n",
       "      <td>2</td>\n",
       "      <td>0</td>\n",
       "      <td>5</td>\n",
       "    </tr>\n",
       "  </tbody>\n",
       "</table>\n",
       "<p>5 rows × 23 columns</p>\n",
       "</div>"
      ],
      "text/plain": [
       "   Column_Name  age  income  country  rent_own  lots_of_toys_good  \\\n",
       "0            1   59  146958      118         1                  3   \n",
       "1            1   49  171867       38         1                  1   \n",
       "2            3   35  156932       36         0                  3   \n",
       "3            2   63  128694       12         1                  3   \n",
       "4            2   28  144879       27         0                  1   \n",
       "\n",
       "    Screen_time_is_good  Stressed_lots_of_toys  Toys_impt_childhood  \\\n",
       "0                     3                      3                    2   \n",
       "1                     1                      3                    1   \n",
       "2                     3                      1                    2   \n",
       "3                     1                      1                    1   \n",
       "4                     1                      2                    3   \n",
       "\n",
       "   toys_clean  ...  decor_match  Too_colorful  easy_storage  movie/tv  music  \\\n",
       "0           1  ...            3             2             2         3      3   \n",
       "1           1  ...            1             3             3         1      4   \n",
       "2           2  ...            2             3             3         3      1   \n",
       "3           3  ...            1             1             1         3      4   \n",
       "4           1  ...            1             3             3         1      3   \n",
       "\n",
       "   food  beauty  pet  label  Children  \n",
       "0     2       2    2      0         4  \n",
       "1     2       1    2      0         5  \n",
       "2     3       1    3      0         3  \n",
       "3     2       1    2      0         5  \n",
       "4     3       1    2      0         5  \n",
       "\n",
       "[5 rows x 23 columns]"
      ]
     },
     "execution_count": 173,
     "metadata": {},
     "output_type": "execute_result"
    }
   ],
   "source": [
    "# Create label variable for the clusters\n",
    "fake_data['label'] = agg_clustering.labels_\n",
    "fake_data.head()"
   ]
  },
  {
   "cell_type": "code",
   "execution_count": 174,
   "id": "8213dc85",
   "metadata": {},
   "outputs": [
    {
     "data": {
      "image/png": "[encoded data removed]",
      "text/plain": [
       "<Figure size 1080x864 with 1 Axes>"
      ]
     },
     "metadata": {
      "needs_background": "light"
     },
     "output_type": "display_data"
    }
   ],
   "source": [
    "# Visualize clusters using dendrogram from Scipy\n",
    "from scipy.cluster.hierarchy import dendrogram, linkage\n",
    "\n",
    "Z = linkage(fake_data, method='ward')\n",
    "import matplotlib.pyplot as plt\n",
    "\n",
    "#plot\n",
    "plt.figure(figsize=(15, 12))\n",
    "\n",
    "dendrogram(\n",
    "    Z,\n",
    "    orientation='right',\n",
    "    labels=fake_data.index.tolist(),\n",
    "    show_leaf_counts=False\n",
    ")\n",
    "\n",
    "plt.show()"
   ]
  },
  {
   "cell_type": "markdown",
   "id": "86b19cfc",
   "metadata": {},
   "source": [
    "# Extract Mean of Clusters and Columns to Understand Columns"
   ]
  },
  {
   "cell_type": "code",
   "execution_count": 175,
   "id": "5e984258",
   "metadata": {},
   "outputs": [
    {
     "data": {
      "text/html": [
       "<div>\n",
       "<style scoped>\n",
       "    .dataframe tbody tr th:only-of-type {\n",
       "        vertical-align: middle;\n",
       "    }\n",
       "\n",
       "    .dataframe tbody tr th {\n",
       "        vertical-align: top;\n",
       "    }\n",
       "\n",
       "    .dataframe thead th {\n",
       "        text-align: right;\n",
       "    }\n",
       "</style>\n",
       "<table border=\"1\" class=\"dataframe\">\n",
       "  <thead>\n",
       "    <tr style=\"text-align: right;\">\n",
       "      <th></th>\n",
       "      <th>Column_Name</th>\n",
       "      <th>age</th>\n",
       "      <th>income</th>\n",
       "      <th>country</th>\n",
       "      <th>rent_own</th>\n",
       "      <th>lots_of_toys_good</th>\n",
       "      <th>Screen_time_is_good</th>\n",
       "      <th>Stressed_lots_of_toys</th>\n",
       "      <th>Toys_impt_childhood</th>\n",
       "      <th>toys_clean</th>\n",
       "      <th>...</th>\n",
       "      <th>parents_feelings_important</th>\n",
       "      <th>decor_match</th>\n",
       "      <th>Too_colorful</th>\n",
       "      <th>easy_storage</th>\n",
       "      <th>movie/tv</th>\n",
       "      <th>music</th>\n",
       "      <th>food</th>\n",
       "      <th>beauty</th>\n",
       "      <th>pet</th>\n",
       "      <th>Children</th>\n",
       "    </tr>\n",
       "    <tr>\n",
       "      <th>label</th>\n",
       "      <th></th>\n",
       "      <th></th>\n",
       "      <th></th>\n",
       "      <th></th>\n",
       "      <th></th>\n",
       "      <th></th>\n",
       "      <th></th>\n",
       "      <th></th>\n",
       "      <th></th>\n",
       "      <th></th>\n",
       "      <th></th>\n",
       "      <th></th>\n",
       "      <th></th>\n",
       "      <th></th>\n",
       "      <th></th>\n",
       "      <th></th>\n",
       "      <th></th>\n",
       "      <th></th>\n",
       "      <th></th>\n",
       "      <th></th>\n",
       "      <th></th>\n",
       "    </tr>\n",
       "  </thead>\n",
       "  <tbody>\n",
       "    <tr>\n",
       "      <th>0</th>\n",
       "      <td>2.861111</td>\n",
       "      <td>44.972222</td>\n",
       "      <td>148190.458333</td>\n",
       "      <td>71.819444</td>\n",
       "      <td>0.395833</td>\n",
       "      <td>2.006944</td>\n",
       "      <td>1.895833</td>\n",
       "      <td>1.986111</td>\n",
       "      <td>2.055556</td>\n",
       "      <td>1.958333</td>\n",
       "      <td>...</td>\n",
       "      <td>1.909722</td>\n",
       "      <td>1.944444</td>\n",
       "      <td>1.937500</td>\n",
       "      <td>2.041667</td>\n",
       "      <td>2.006944</td>\n",
       "      <td>2.548611</td>\n",
       "      <td>1.979167</td>\n",
       "      <td>2.041667</td>\n",
       "      <td>1.993056</td>\n",
       "      <td>3.479167</td>\n",
       "    </tr>\n",
       "    <tr>\n",
       "      <th>1</th>\n",
       "      <td>3.000000</td>\n",
       "      <td>43.070796</td>\n",
       "      <td>62912.353982</td>\n",
       "      <td>71.185841</td>\n",
       "      <td>0.495575</td>\n",
       "      <td>1.991150</td>\n",
       "      <td>1.955752</td>\n",
       "      <td>2.000000</td>\n",
       "      <td>1.973451</td>\n",
       "      <td>1.920354</td>\n",
       "      <td>...</td>\n",
       "      <td>1.973451</td>\n",
       "      <td>2.035398</td>\n",
       "      <td>2.035398</td>\n",
       "      <td>1.938053</td>\n",
       "      <td>1.991150</td>\n",
       "      <td>2.442478</td>\n",
       "      <td>1.991150</td>\n",
       "      <td>1.973451</td>\n",
       "      <td>1.991150</td>\n",
       "      <td>3.398230</td>\n",
       "    </tr>\n",
       "    <tr>\n",
       "      <th>2</th>\n",
       "      <td>2.870968</td>\n",
       "      <td>47.849462</td>\n",
       "      <td>224541.000000</td>\n",
       "      <td>78.978495</td>\n",
       "      <td>0.516129</td>\n",
       "      <td>2.000000</td>\n",
       "      <td>1.935484</td>\n",
       "      <td>1.978495</td>\n",
       "      <td>2.010753</td>\n",
       "      <td>1.946237</td>\n",
       "      <td>...</td>\n",
       "      <td>1.946237</td>\n",
       "      <td>2.000000</td>\n",
       "      <td>1.924731</td>\n",
       "      <td>2.182796</td>\n",
       "      <td>2.000000</td>\n",
       "      <td>2.440860</td>\n",
       "      <td>1.903226</td>\n",
       "      <td>1.967742</td>\n",
       "      <td>2.000000</td>\n",
       "      <td>3.462366</td>\n",
       "    </tr>\n",
       "  </tbody>\n",
       "</table>\n",
       "<p>3 rows × 22 columns</p>\n",
       "</div>"
      ],
      "text/plain": [
       "       Column_Name        age         income    country  rent_own  \\\n",
       "label                                                               \n",
       "0         2.861111  44.972222  148190.458333  71.819444  0.395833   \n",
       "1         3.000000  43.070796   62912.353982  71.185841  0.495575   \n",
       "2         2.870968  47.849462  224541.000000  78.978495  0.516129   \n",
       "\n",
       "       lots_of_toys_good   Screen_time_is_good  Stressed_lots_of_toys  \\\n",
       "label                                                                   \n",
       "0               2.006944              1.895833               1.986111   \n",
       "1               1.991150              1.955752               2.000000   \n",
       "2               2.000000              1.935484               1.978495   \n",
       "\n",
       "       Toys_impt_childhood  toys_clean  ...  parents_feelings_important  \\\n",
       "label                                   ...                               \n",
       "0                 2.055556    1.958333  ...                    1.909722   \n",
       "1                 1.973451    1.920354  ...                    1.973451   \n",
       "2                 2.010753    1.946237  ...                    1.946237   \n",
       "\n",
       "       decor_match  Too_colorful  easy_storage  movie/tv     music      food  \\\n",
       "label                                                                          \n",
       "0         1.944444      1.937500      2.041667  2.006944  2.548611  1.979167   \n",
       "1         2.035398      2.035398      1.938053  1.991150  2.442478  1.991150   \n",
       "2         2.000000      1.924731      2.182796  2.000000  2.440860  1.903226   \n",
       "\n",
       "         beauty       pet  Children  \n",
       "label                                \n",
       "0      2.041667  1.993056  3.479167  \n",
       "1      1.973451  1.991150  3.398230  \n",
       "2      1.967742  2.000000  3.462366  \n",
       "\n",
       "[3 rows x 22 columns]"
      ]
     },
     "execution_count": 175,
     "metadata": {},
     "output_type": "execute_result"
    }
   ],
   "source": [
    "# view mean of columns\n",
    "fake_data.groupby(['label']).mean()"
   ]
  },
  {
   "cell_type": "markdown",
   "id": "bbace2a3",
   "metadata": {},
   "source": [
    "# Extract Data by viewing most frequent Values"
   ]
  },
  {
   "cell_type": "code",
   "execution_count": 203,
   "id": "d88633dd",
   "metadata": {},
   "outputs": [],
   "source": [
    "# Create df for each cluster\n",
    "df0 = fake_data[fake_data['label'] == 0]\n",
    "df1 = fake_data[fake_data['label'] == 1]\n",
    "df2 = fake_data[fake_data['label'] == 2]"
   ]
  },
  {
   "cell_type": "markdown",
   "id": "6f3c672f",
   "metadata": {},
   "source": [
    "#### Age"
   ]
  },
  {
   "cell_type": "code",
   "execution_count": 178,
   "id": "e45c1caa",
   "metadata": {},
   "outputs": [
    {
     "data": {
      "text/plain": [
       "48    6\n",
       "55    6\n",
       "53    5\n",
       "Name: age, dtype: int64"
      ]
     },
     "execution_count": 178,
     "metadata": {},
     "output_type": "execute_result"
    }
   ],
   "source": [
    "#age\n",
    "df0[\"age\"].value_counts().head(3)"
   ]
  },
  {
   "cell_type": "code",
   "execution_count": 179,
   "id": "7983f8a9",
   "metadata": {},
   "outputs": [
    {
     "data": {
      "text/plain": [
       "28    5\n",
       "22    5\n",
       "64    5\n",
       "Name: age, dtype: int64"
      ]
     },
     "execution_count": 179,
     "metadata": {},
     "output_type": "execute_result"
    }
   ],
   "source": [
    "df1[\"age\"].value_counts().head(3)"
   ]
  },
  {
   "cell_type": "code",
   "execution_count": 180,
   "id": "c26b9b72",
   "metadata": {},
   "outputs": [
    {
     "data": {
      "text/plain": [
       "53    6\n",
       "68    5\n",
       "52    4\n",
       "Name: age, dtype: int64"
      ]
     },
     "execution_count": 180,
     "metadata": {},
     "output_type": "execute_result"
    }
   ],
   "source": [
    "df2[\"age\"].value_counts().head(3)"
   ]
  },
  {
   "cell_type": "markdown",
   "id": "9b709c71",
   "metadata": {},
   "source": [
    "### Children"
   ]
  },
  {
   "cell_type": "code",
   "execution_count": 205,
   "id": "104d0529",
   "metadata": {},
   "outputs": [
    {
     "data": {
      "text/plain": [
       "4    30\n",
       "3    28\n",
       "1    27\n",
       "Name: Children, dtype: int64"
      ]
     },
     "execution_count": 205,
     "metadata": {},
     "output_type": "execute_result"
    }
   ],
   "source": [
    "df0[\"Children\"].value_counts().head(3)"
   ]
  },
  {
   "cell_type": "code",
   "execution_count": 206,
   "id": "625a6feb",
   "metadata": {},
   "outputs": [
    {
     "data": {
      "text/plain": [
       "1    26\n",
       "4    23\n",
       "6    20\n",
       "Name: Children, dtype: int64"
      ]
     },
     "execution_count": 206,
     "metadata": {},
     "output_type": "execute_result"
    }
   ],
   "source": [
    "df1[\"Children\"].value_counts().head(3)"
   ]
  },
  {
   "cell_type": "code",
   "execution_count": 207,
   "id": "b28f3ce0",
   "metadata": {},
   "outputs": [
    {
     "data": {
      "text/plain": [
       "3    18\n",
       "4    18\n",
       "2    16\n",
       "Name: Children, dtype: int64"
      ]
     },
     "execution_count": 207,
     "metadata": {},
     "output_type": "execute_result"
    }
   ],
   "source": [
    "df2[\"Children\"].value_counts().head(3)"
   ]
  },
  {
   "cell_type": "markdown",
   "id": "659d0d97",
   "metadata": {},
   "source": [
    "##### income"
   ]
  },
  {
   "cell_type": "code",
   "execution_count": 184,
   "id": "6c782ac1",
   "metadata": {},
   "outputs": [
    {
     "data": {
      "text/plain": [
       "146958    1\n",
       "171867    1\n",
       "144101    1\n",
       "Name: income, dtype: int64"
      ]
     },
     "execution_count": 184,
     "metadata": {},
     "output_type": "execute_result"
    }
   ],
   "source": [
    "df0[\"income\"].value_counts().head(3)"
   ]
  },
  {
   "cell_type": "code",
   "execution_count": 185,
   "id": "ef758963",
   "metadata": {},
   "outputs": [
    {
     "data": {
      "text/plain": [
       "79886    1\n",
       "49538    1\n",
       "51736    1\n",
       "Name: income, dtype: int64"
      ]
     },
     "execution_count": 185,
     "metadata": {},
     "output_type": "execute_result"
    }
   ],
   "source": [
    "df1[\"income\"].value_counts().head(3)"
   ]
  },
  {
   "cell_type": "code",
   "execution_count": 186,
   "id": "12334e21",
   "metadata": {},
   "outputs": [
    {
     "data": {
      "text/plain": [
       "232892    1\n",
       "199013    1\n",
       "245546    1\n",
       "Name: income, dtype: int64"
      ]
     },
     "execution_count": 186,
     "metadata": {},
     "output_type": "execute_result"
    }
   ],
   "source": [
    "df2[\"income\"].value_counts().head(3)"
   ]
  },
  {
   "cell_type": "markdown",
   "id": "ad66bdf7",
   "metadata": {},
   "source": [
    "##### rent/own\n",
    "rent=1\n",
    "own = 0"
   ]
  },
  {
   "cell_type": "code",
   "execution_count": 187,
   "id": "aa7d7f36",
   "metadata": {},
   "outputs": [
    {
     "data": {
      "text/plain": [
       "0    87\n",
       "1    57\n",
       "Name: rent_own, dtype: int64"
      ]
     },
     "execution_count": 187,
     "metadata": {},
     "output_type": "execute_result"
    }
   ],
   "source": [
    "df0[\"rent_own\"].value_counts().head(3)"
   ]
  },
  {
   "cell_type": "code",
   "execution_count": 188,
   "id": "a8197fde",
   "metadata": {},
   "outputs": [
    {
     "data": {
      "text/plain": [
       "0    57\n",
       "1    56\n",
       "Name: rent_own, dtype: int64"
      ]
     },
     "execution_count": 188,
     "metadata": {},
     "output_type": "execute_result"
    }
   ],
   "source": [
    "df1[\"rent_own\"].value_counts().head(3)"
   ]
  },
  {
   "cell_type": "code",
   "execution_count": 189,
   "id": "c66ed970",
   "metadata": {},
   "outputs": [
    {
     "data": {
      "text/plain": [
       "1    48\n",
       "0    45\n",
       "Name: rent_own, dtype: int64"
      ]
     },
     "execution_count": 189,
     "metadata": {},
     "output_type": "execute_result"
    }
   ],
   "source": [
    "df2[\"rent_own\"].value_counts().head(3)"
   ]
  },
  {
   "cell_type": "markdown",
   "id": "ed2fa06a",
   "metadata": {},
   "source": [
    "# Evaluate Clusters "
   ]
  },
  {
   "cell_type": "code",
   "execution_count": 191,
   "id": "4099eaab",
   "metadata": {},
   "outputs": [],
   "source": [
    "# Create datafame from each cluster in Attitudes\n",
    "adf= fake_data[[\"lots_of_toys_good\", \" Screen_time_is_good\",\"Stressed_lots_of_toys\",\"Toys_impt_childhood\",\"toys_clean\",\n",
    "           \"screen_time_bad\",\"house_man_toys\",\"parents_feelings_important\",\"decor_match\",\"Too_colorful\",\n",
    "           \"easy_storage\",\"label\"]]"
   ]
  },
  {
   "cell_type": "code",
   "execution_count": 193,
   "id": "0f38a3c7",
   "metadata": {},
   "outputs": [],
   "source": [
    "# Create df for each cluster in attitudes\n",
    "df0 = adf[adf['label'] == 0]\n",
    "df1 = adf[adf['label'] == 1]\n",
    "df2 = adf[adf['label'] == 2]"
   ]
  },
  {
   "cell_type": "code",
   "execution_count": 194,
   "id": "b2856e8b",
   "metadata": {},
   "outputs": [
    {
     "data": {
      "text/plain": [
       "lots_of_toys_good             3\n",
       " Screen_time_is_good          1\n",
       "Stressed_lots_of_toys         1\n",
       "Toys_impt_childhood           3\n",
       "toys_clean                    1\n",
       "screen_time_bad               3\n",
       "house_man_toys                2\n",
       "parents_feelings_important    1\n",
       "decor_match                   1\n",
       "Too_colorful                  1\n",
       "easy_storage                  3\n",
       "label                         0\n",
       "Name: 0, dtype: int64"
      ]
     },
     "execution_count": 194,
     "metadata": {},
     "output_type": "execute_result"
    }
   ],
   "source": [
    "# view most frequent values for dataframe \n",
    "df0.mode().iloc[0]"
   ]
  },
  {
   "cell_type": "code",
   "execution_count": 195,
   "id": "0795e24d",
   "metadata": {},
   "outputs": [
    {
     "data": {
      "text/plain": [
       "lots_of_toys_good             1.0\n",
       " Screen_time_is_good          2.0\n",
       "Stressed_lots_of_toys         2.0\n",
       "Toys_impt_childhood           1.0\n",
       "toys_clean                    1.0\n",
       "screen_time_bad               2.0\n",
       "house_man_toys                1.0\n",
       "parents_feelings_important    1.0\n",
       "decor_match                   3.0\n",
       "Too_colorful                  2.0\n",
       "easy_storage                  1.0\n",
       "label                         1.0\n",
       "Name: 0, dtype: float64"
      ]
     },
     "execution_count": 195,
     "metadata": {},
     "output_type": "execute_result"
    }
   ],
   "source": [
    "# view most frequent values for dataframe \n",
    "df1.mode().iloc[0]"
   ]
  },
  {
   "cell_type": "code",
   "execution_count": 196,
   "id": "7bec856d",
   "metadata": {},
   "outputs": [
    {
     "data": {
      "text/plain": [
       "lots_of_toys_good             1.0\n",
       " Screen_time_is_good          1.0\n",
       "Stressed_lots_of_toys         1.0\n",
       "Toys_impt_childhood           2.0\n",
       "toys_clean                    1.0\n",
       "screen_time_bad               1.0\n",
       "house_man_toys                1.0\n",
       "parents_feelings_important    2.0\n",
       "decor_match                   2.0\n",
       "Too_colorful                  1.0\n",
       "easy_storage                  3.0\n",
       "label                         2.0\n",
       "Name: 0, dtype: float64"
      ]
     },
     "execution_count": 196,
     "metadata": {},
     "output_type": "execute_result"
    }
   ],
   "source": [
    "# view most frequent values for dataframe \n",
    "df2.mode().iloc[0]"
   ]
  },
  {
   "cell_type": "markdown",
   "id": "cb841be4",
   "metadata": {},
   "source": [
    "#### Subscriptions"
   ]
  },
  {
   "cell_type": "code",
   "execution_count": 211,
   "id": "9713a928",
   "metadata": {},
   "outputs": [],
   "source": [
    "# Create datafame of subscription questions\n",
    "sdf= fake_data[[\"movie/tv\",\"music\",\"food\",\"beauty\",\"pet\", \"label\"]]"
   ]
  },
  {
   "cell_type": "code",
   "execution_count": 213,
   "id": "58bb2d3a",
   "metadata": {},
   "outputs": [],
   "source": [
    "# Create datafame from each cluster in subscription\n",
    "sf0 = sdf[adf['label'] == 0]\n",
    "sf1 = sdf[adf['label'] == 1]\n",
    "sf2 = sdf[adf['label'] == 2]"
   ]
  },
  {
   "cell_type": "code",
   "execution_count": 215,
   "id": "90a7e0fd",
   "metadata": {},
   "outputs": [
    {
     "data": {
      "text/plain": [
       "movie/tv    2\n",
       "music       4\n",
       "food        2\n",
       "beauty      2\n",
       "pet         3\n",
       "label       0\n",
       "Name: 0, dtype: int64"
      ]
     },
     "execution_count": 215,
     "metadata": {},
     "output_type": "execute_result"
    }
   ],
   "source": [
    "# view most frequent values for dataframe \n",
    "sf0.mode().iloc[0]"
   ]
  },
  {
   "cell_type": "code",
   "execution_count": 216,
   "id": "655016e8",
   "metadata": {},
   "outputs": [
    {
     "data": {
      "text/plain": [
       "movie/tv    3.0\n",
       "music       1.0\n",
       "food        2.0\n",
       "beauty      1.0\n",
       "pet         1.0\n",
       "label       1.0\n",
       "Name: 0, dtype: float64"
      ]
     },
     "execution_count": 216,
     "metadata": {},
     "output_type": "execute_result"
    }
   ],
   "source": [
    "# view most frequent values for dataframe \n",
    "sf1.mode().iloc[0]"
   ]
  },
  {
   "cell_type": "code",
   "execution_count": 217,
   "id": "98d40870",
   "metadata": {},
   "outputs": [
    {
     "data": {
      "text/plain": [
       "movie/tv    1\n",
       "music       2\n",
       "food        1\n",
       "beauty      1\n",
       "pet         2\n",
       "label       2\n",
       "Name: 0, dtype: int64"
      ]
     },
     "execution_count": 217,
     "metadata": {},
     "output_type": "execute_result"
    }
   ],
   "source": [
    "# view most frequent values for dataframe \n",
    "sf2.mode().iloc[0]"
   ]
  }
 ],
 "metadata": {
  "kernelspec": {
   "display_name": "Python 3 (ipykernel)",
   "language": "python",
   "name": "python3"
  },
  "language_info": {
   "codemirror_mode": {
    "name": "ipython",
    "version": 3
   },
   "file_extension": ".py",
   "mimetype": "text/x-python",
   "name": "python",
   "nbconvert_exporter": "python",
   "pygments_lexer": "ipython3",
   "version": "3.8.8"
  }
 },
 "nbformat": 4,
 "nbformat_minor": 5
}
